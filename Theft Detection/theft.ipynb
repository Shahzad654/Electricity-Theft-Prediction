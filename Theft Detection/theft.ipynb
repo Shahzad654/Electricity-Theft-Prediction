{
 "cells": [
  {
   "cell_type": "code",
   "execution_count": 20,
   "metadata": {},
   "outputs": [
    {
     "name": "stdout",
     "output_type": "stream",
     "text": [
      "Suspicious activity detected.\n"
     ]
    }
   ],
   "source": [
    "import pandas as pd\n",
    "\n",
    "# Load the dataset\n",
    "data = pd.read_csv('dataset.csv')\n",
    "\n",
    "# Define function to check suspicious activity\n",
    "def check_suspicious_activity(consumption_data):\n",
    "    suspicious_flags = []\n",
    "    for i, row in consumption_data.iterrows():\n",
    "        # Rule 1: Check for abnormally low consumption\n",
    "        if row.mean() < 100:  # Adjust threshold as needed\n",
    "            suspicious_flags.append(1)\n",
    "        else:\n",
    "            # Rule 2: Check for sudden and large fluctuations\n",
    "            if (row.diff().abs() > 500).any():  # Adjust threshold as needed\n",
    "                suspicious_flags.append(1)\n",
    "            else:\n",
    "                suspicious_flags.append(0)\n",
    "    \n",
    "    return suspicious_flags\n",
    "\n",
    "# Function to check suspicious activity based on user input\n",
    "def predict_suspicious_activity(user_input):\n",
    "    # Create a DataFrame with user input\n",
    "    user_data = pd.DataFrame([user_input], columns=data.columns[:-2])  # Assuming last two columns are not provided\n",
    "    \n",
    "    # Check suspicious activity\n",
    "    suspicious_flag = check_suspicious_activity(user_data)\n",
    "    \n",
    "    if 1 in suspicious_flag:\n",
    "        print(\"Suspicious activity detected.\")\n",
    "    else:\n",
    "        print(\"No suspicious activity detected.\")\n",
    "\n",
    "# Example of user input\n",
    "# user_input = [2200, 2100, 2150, 2200, 2250, 2300, 2200, 2100, 2150, 2200, 2250, 2300, 2200, 2100, 2150, 2200, 2250, 2300, 2200, 2100, 2150, 2200, 2250, 2300, 2333, 2333]\n",
    "user_input = [2400, 2500, 2674, 2432, 2231, 1942, 2752, 1244, 2069, 2360, 1774, 2089, 1300, 2419, 2462, 1177, 340, 2272, 0, 1183, 1190, 1183, 0, 1154, 1166, 1100]\n",
    "\n",
    "# Call the function\n",
    "predict_suspicious_activity(user_input)\n"
   ]
  }
 ],
 "metadata": {
  "kernelspec": {
   "display_name": "Python 3",
   "language": "python",
   "name": "python3"
  },
  "language_info": {
   "codemirror_mode": {
    "name": "ipython",
    "version": 3
   },
   "file_extension": ".py",
   "mimetype": "text/x-python",
   "name": "python",
   "nbconvert_exporter": "python",
   "pygments_lexer": "ipython3",
   "version": "3.12.1 (tags/v3.12.1:2305ca5, Dec  7 2023, 22:03:25) [MSC v.1937 64 bit (AMD64)]"
  },
  "orig_nbformat": 4,
  "vscode": {
   "interpreter": {
    "hash": "32e8181fce7c3e359c2790b917cd539742ff129bf629b8ad82002a107951ad4e"
   }
  }
 },
 "nbformat": 4,
 "nbformat_minor": 2
}
